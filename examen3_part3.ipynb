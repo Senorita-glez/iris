{
 "cells": [
  {
   "attachments": {},
   "cell_type": "markdown",
   "metadata": {},
   "source": [
    "Elaborado por Daphne Sofia Gonzalez Cano\n",
    "Parte 3 del 3er examen parcial"
   ]
  },
  {
   "cell_type": "code",
   "execution_count": 16,
   "metadata": {},
   "outputs": [],
   "source": [
    "from math import sqrt\n",
    "import numpy as np"
   ]
  },
  {
   "cell_type": "code",
   "execution_count": 17,
   "metadata": {},
   "outputs": [],
   "source": [
    "class KNNClassifier:\n",
    "    def __init__(self, k):\n",
    "        self.k = k\n",
    "        self.data_train = None\n",
    "        self.label_train = None\n",
    "\n",
    "    def fit(self, data_train, label_train):\n",
    "        self.data_train = data_train\n",
    "        self.label_train = label_train\n",
    "\n",
    "    def euclidean_distance(self, x1, x2):\n",
    "        squared_diff_sum = 0\n",
    "        for i in range(len(x1)):\n",
    "            squared_diff_sum += (x1[i] - x2[i]) ** 2\n",
    "        return sqrt(squared_diff_sum)\n",
    "\n",
    "    def get_neighbors(self, x):\n",
    "        distances = []\n",
    "        for i in range(len(self.data_train)):\n",
    "            distance = self.euclidean_distance(x, self.data_train[i])\n",
    "            distances.append((distance, self.label_train[i]))\n",
    "\n",
    "        #for d in range(len(distances)):\n",
    "           #print(distances[d][0])\n",
    "        \n",
    "        #ordenamiento\n",
    "        for i in range(len(distances)):\n",
    "            min_idx = i\n",
    "            for j in range(i + 1, len(distances)):\n",
    "                if distances[j][0] < distances[min_idx][0]:\n",
    "                    min_idx = j\n",
    "            distances[i], distances[min_idx] = distances[min_idx], distances[i]\n",
    "\n",
    "        k_nearest_neighbors = distances[:self.k]\n",
    "            \n",
    "        return k_nearest_neighbors\n",
    "\n",
    "\n",
    "    def predict(self, data_train):\n",
    "        y_pred = []\n",
    "        k = 0\n",
    "        for data_train in data_train:\n",
    "            k = k+1\n",
    "            neighbors = self.get_neighbors(data_train)\n",
    "            prom = 0 \n",
    "            for d in range(len(neighbors)):\n",
    "                prom = prom + neighbors[d][1]\n",
    "            prom = int(prom / len(neighbors))\n",
    "            y_pred.append(prom)\n",
    "\n",
    "        return y_pred\n"
   ]
  },
  {
   "cell_type": "code",
   "execution_count": 18,
   "metadata": {},
   "outputs": [
    {
     "name": "stdout",
     "output_type": "stream",
     "text": [
      "(150, 5)\n",
      "(90, 4)\n",
      "(90,)\n",
      "(60, 4)\n",
      "(60,)\n"
     ]
    }
   ],
   "source": [
    "def getNPmatrix(archive):\n",
    "    with open(archive, 'r') as file:\n",
    "        lines = file.readlines()\n",
    "        \n",
    "    data = [line.strip().split(',') for line in lines]\n",
    "\n",
    "    return np.array(data, dtype=float)\n",
    "\n",
    "data = getNPmatrix('irism.data')\n",
    "print(data.shape)\n",
    "\n",
    "dataTrain = data[:90, :4]\n",
    "label_train = data[:90, 4]\n",
    "print(dataTrain.shape)\n",
    "print(label_train.shape)\n",
    "\n",
    "dataTest = data[90:150, :4]\n",
    "label_test = data[90:150, 4]\n",
    "print(dataTest.shape)\n",
    "print(label_test.shape)"
   ]
  },
  {
   "cell_type": "code",
   "execution_count": 19,
   "metadata": {},
   "outputs": [],
   "source": [
    "def knnAlgorithm(data_train, label_train, X_test, Y_test, k):\n",
    "    clases = np.unique(label_train)\n",
    "    confussionMatrix = np.zeros((len(clases),len(clases)), dtype=int)\n",
    "    knn = KNNClassifier(k)\n",
    "    knn.fit(data_train, label_train)\n",
    "    predictions = knn.predict(X_test)\n",
    "    for i in range (len(predictions)):\n",
    "        confussionMatrix[int(predictions[i])-1][int(Y_test[i])-1] += 1\n",
    "    accuracy = np.trace(confussionMatrix)/np.sum(confussionMatrix)\n",
    "    #se imprime matriz de confusion\n",
    "    print(\"the accuracy with k = \",k, \" is \",accuracy*100, \"%\")\n",
    "    print(confussionMatrix, \"\\n\")\n",
    "    #return accuracy"
   ]
  },
  {
   "cell_type": "code",
   "execution_count": 20,
   "metadata": {},
   "outputs": [
    {
     "name": "stdout",
     "output_type": "stream",
     "text": [
      "the accuracy with k =  3  is  93.33333333333333 %\n",
      "[[20  0  0]\n",
      " [ 0 20  4]\n",
      " [ 0  0 16]] \n",
      "\n",
      "the accuracy with k =  5  is  90.0 %\n",
      "[[20  0  0]\n",
      " [ 0 20  6]\n",
      " [ 0  0 14]] \n",
      "\n"
     ]
    }
   ],
   "source": [
    "knnAlgorithm(dataTrain, label_train, dataTest, label_test, 3)\n",
    "knnAlgorithm(dataTrain, label_train, dataTest, label_test, 5)\n"
   ]
  }
 ],
 "metadata": {
  "kernelspec": {
   "display_name": "base",
   "language": "python",
   "name": "python3"
  },
  "language_info": {
   "codemirror_mode": {
    "name": "ipython",
    "version": 3
   },
   "file_extension": ".py",
   "mimetype": "text/x-python",
   "name": "python",
   "nbconvert_exporter": "python",
   "pygments_lexer": "ipython3",
   "version": "3.9.13"
  },
  "orig_nbformat": 4
 },
 "nbformat": 4,
 "nbformat_minor": 2
}
