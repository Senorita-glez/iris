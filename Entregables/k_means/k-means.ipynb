{
 "cells": [
  {
   "cell_type": "code",
   "execution_count": 35,
   "metadata": {},
   "outputs": [],
   "source": [
    "import random\n",
    "import math\n",
    "import numpy as np"
   ]
  },
  {
   "cell_type": "code",
   "execution_count": 36,
   "metadata": {},
   "outputs": [],
   "source": [
    "def readArchive(fileName):\n",
    "    with open(fileName, 'r') as file:\n",
    "        lines = file.readlines()\n",
    "\n",
    "    # Elimina los caracteres de salto de línea y divide los valores por comas\n",
    "    data = [line.strip().split(',') for line in lines]\n",
    "\n",
    "    # Convierte la lista en una matriz de numpy\n",
    "    return np.array(data, dtype=int)\n",
    "\n",
    "dataTrain = readArchive('optdigits.tra')\n",
    "\n",
    "X_train = dataTrain[:, :64]\n",
    "Y_train = dataTrain[:, 64]\n",
    "\n",
    "dataTest = readArchive('optdigits.tes')\n",
    "X_test = dataTest[:, :64]\n",
    "Y_test = dataTest[: , 64]"
   ]
  },
  {
   "cell_type": "code",
   "execution_count": 37,
   "metadata": {},
   "outputs": [],
   "source": [
    "class KMeans:\n",
    "    def __init__(self, k, max_iterations=100):\n",
    "        self.k = k\n",
    "        self.max_iterations = max_iterations\n",
    "\n",
    "    def fit(self, data):\n",
    "        self.centroids = self._initialize_centroids(data)\n",
    "        self.clusters = [[] for _ in range(self.k)]\n",
    "\n",
    "        for _ in range(self.max_iterations):\n",
    "            self._assign_clusters(data)\n",
    "            prev_centroids = self.centroids.copy()\n",
    "            self._update_centroids(data)\n",
    "            if self._has_converged(prev_centroids):\n",
    "                break\n",
    "\n",
    "    def predict(self, data):\n",
    "        labels = []\n",
    "        for point in data:\n",
    "            label = self._get_label(point)\n",
    "            labels.append(label)\n",
    "        return labels\n",
    "\n",
    "    def _initialize_centroids(self, data):\n",
    "        centroids_indices = random.sample(range(len(data)), self.k)\n",
    "        centroids = [data[i] for i in centroids_indices]\n",
    "        return centroids\n",
    "\n",
    "    def _assign_clusters(self, data):\n",
    "        self.clusters = [[] for _ in range(self.k)]\n",
    "        for point in data:\n",
    "            centroid_index = self._closest_centroid(point)\n",
    "            self.clusters[centroid_index].append(point)\n",
    "\n",
    "    def _update_centroids(self, data):\n",
    "        for i in range(self.k):\n",
    "            if self.clusters[i]:\n",
    "                centroid = self._calculate_centroid(self.clusters[i])\n",
    "                self.centroids[i] = centroid\n",
    "\n",
    "    def _closest_centroid(self, point):\n",
    "        distances = [self._euclidean_distance(point, centroid) for centroid in self.centroids]\n",
    "        return distances.index(min(distances))\n",
    "\n",
    "    def _euclidean_distance(self, image1, image2):\n",
    "        squared_distance = sum((pixel1 - pixel2) ** 2 for pixel1, pixel2 in zip(image1, image2))\n",
    "        return math.sqrt(squared_distance)\n",
    "\n",
    "\n",
    "    def _calculate_centroid(self, cluster):\n",
    "        dimensions = len(cluster[0])\n",
    "        centroid = [sum(cluster_pixels[d]) / len(cluster) for d in range(dimensions)]\n",
    "        return centroid\n",
    "\n",
    "\n",
    "    def _has_converged(self, prev_centroids):\n",
    "        return self.centroids == prev_centroids\n",
    "\n",
    "    def _get_label(self, point):\n",
    "        return self._closest_centroid(point)\n"
   ]
  },
  {
   "cell_type": "code",
   "execution_count": 38,
   "metadata": {},
   "outputs": [
    {
     "ename": "TypeError",
     "evalue": "only size-1 arrays can be converted to Python scalars",
     "output_type": "error",
     "traceback": [
      "\u001b[1;31m---------------------------------------------------------------------------\u001b[0m",
      "\u001b[1;31mTypeError\u001b[0m                                 Traceback (most recent call last)",
      "\u001b[1;32m~\\AppData\\Local\\Temp\\ipykernel_119672\\1098153414.py\u001b[0m in \u001b[0;36m<module>\u001b[1;34m\u001b[0m\n\u001b[0;32m      1\u001b[0m \u001b[0mdata\u001b[0m \u001b[1;33m=\u001b[0m \u001b[0mlist\u001b[0m\u001b[1;33m(\u001b[0m\u001b[0mzip\u001b[0m\u001b[1;33m(\u001b[0m\u001b[0mX_test\u001b[0m\u001b[1;33m,\u001b[0m \u001b[0mY_test\u001b[0m\u001b[1;33m)\u001b[0m\u001b[1;33m)\u001b[0m\u001b[1;33m\u001b[0m\u001b[1;33m\u001b[0m\u001b[0m\n\u001b[0;32m      2\u001b[0m \u001b[0mkmeans\u001b[0m \u001b[1;33m=\u001b[0m \u001b[0mKMeans\u001b[0m\u001b[1;33m(\u001b[0m\u001b[0mk\u001b[0m\u001b[1;33m=\u001b[0m\u001b[1;36m3\u001b[0m\u001b[1;33m)\u001b[0m  \u001b[1;31m# Elige el número de grupos que deseas.\u001b[0m\u001b[1;33m\u001b[0m\u001b[1;33m\u001b[0m\u001b[0m\n\u001b[1;32m----> 3\u001b[1;33m \u001b[0mkmeans\u001b[0m\u001b[1;33m.\u001b[0m\u001b[0mfit\u001b[0m\u001b[1;33m(\u001b[0m\u001b[0mdata\u001b[0m\u001b[1;33m)\u001b[0m\u001b[1;33m\u001b[0m\u001b[1;33m\u001b[0m\u001b[0m\n\u001b[0m\u001b[0;32m      4\u001b[0m \u001b[0mcluster_labels\u001b[0m \u001b[1;33m=\u001b[0m \u001b[0mkmeans\u001b[0m\u001b[1;33m.\u001b[0m\u001b[0mpredict\u001b[0m\u001b[1;33m(\u001b[0m\u001b[0mdata\u001b[0m\u001b[1;33m)\u001b[0m\u001b[1;33m\u001b[0m\u001b[1;33m\u001b[0m\u001b[0m\n",
      "\u001b[1;32m~\\AppData\\Local\\Temp\\ipykernel_119672\\1213162553.py\u001b[0m in \u001b[0;36mfit\u001b[1;34m(self, data)\u001b[0m\n\u001b[0;32m      9\u001b[0m \u001b[1;33m\u001b[0m\u001b[0m\n\u001b[0;32m     10\u001b[0m         \u001b[1;32mfor\u001b[0m \u001b[0m_\u001b[0m \u001b[1;32min\u001b[0m \u001b[0mrange\u001b[0m\u001b[1;33m(\u001b[0m\u001b[0mself\u001b[0m\u001b[1;33m.\u001b[0m\u001b[0mmax_iterations\u001b[0m\u001b[1;33m)\u001b[0m\u001b[1;33m:\u001b[0m\u001b[1;33m\u001b[0m\u001b[1;33m\u001b[0m\u001b[0m\n\u001b[1;32m---> 11\u001b[1;33m             \u001b[0mself\u001b[0m\u001b[1;33m.\u001b[0m\u001b[0m_assign_clusters\u001b[0m\u001b[1;33m(\u001b[0m\u001b[0mdata\u001b[0m\u001b[1;33m)\u001b[0m\u001b[1;33m\u001b[0m\u001b[1;33m\u001b[0m\u001b[0m\n\u001b[0m\u001b[0;32m     12\u001b[0m             \u001b[0mprev_centroids\u001b[0m \u001b[1;33m=\u001b[0m \u001b[0mself\u001b[0m\u001b[1;33m.\u001b[0m\u001b[0mcentroids\u001b[0m\u001b[1;33m.\u001b[0m\u001b[0mcopy\u001b[0m\u001b[1;33m(\u001b[0m\u001b[1;33m)\u001b[0m\u001b[1;33m\u001b[0m\u001b[1;33m\u001b[0m\u001b[0m\n\u001b[0;32m     13\u001b[0m             \u001b[0mself\u001b[0m\u001b[1;33m.\u001b[0m\u001b[0m_update_centroids\u001b[0m\u001b[1;33m(\u001b[0m\u001b[0mdata\u001b[0m\u001b[1;33m)\u001b[0m\u001b[1;33m\u001b[0m\u001b[1;33m\u001b[0m\u001b[0m\n",
      "\u001b[1;32m~\\AppData\\Local\\Temp\\ipykernel_119672\\1213162553.py\u001b[0m in \u001b[0;36m_assign_clusters\u001b[1;34m(self, data)\u001b[0m\n\u001b[0;32m     30\u001b[0m         \u001b[0mself\u001b[0m\u001b[1;33m.\u001b[0m\u001b[0mclusters\u001b[0m \u001b[1;33m=\u001b[0m \u001b[1;33m[\u001b[0m\u001b[1;33m[\u001b[0m\u001b[1;33m]\u001b[0m \u001b[1;32mfor\u001b[0m \u001b[0m_\u001b[0m \u001b[1;32min\u001b[0m \u001b[0mrange\u001b[0m\u001b[1;33m(\u001b[0m\u001b[0mself\u001b[0m\u001b[1;33m.\u001b[0m\u001b[0mk\u001b[0m\u001b[1;33m)\u001b[0m\u001b[1;33m]\u001b[0m\u001b[1;33m\u001b[0m\u001b[1;33m\u001b[0m\u001b[0m\n\u001b[0;32m     31\u001b[0m         \u001b[1;32mfor\u001b[0m \u001b[0mpoint\u001b[0m \u001b[1;32min\u001b[0m \u001b[0mdata\u001b[0m\u001b[1;33m:\u001b[0m\u001b[1;33m\u001b[0m\u001b[1;33m\u001b[0m\u001b[0m\n\u001b[1;32m---> 32\u001b[1;33m             \u001b[0mcentroid_index\u001b[0m \u001b[1;33m=\u001b[0m \u001b[0mself\u001b[0m\u001b[1;33m.\u001b[0m\u001b[0m_closest_centroid\u001b[0m\u001b[1;33m(\u001b[0m\u001b[0mpoint\u001b[0m\u001b[1;33m)\u001b[0m\u001b[1;33m\u001b[0m\u001b[1;33m\u001b[0m\u001b[0m\n\u001b[0m\u001b[0;32m     33\u001b[0m             \u001b[0mself\u001b[0m\u001b[1;33m.\u001b[0m\u001b[0mclusters\u001b[0m\u001b[1;33m[\u001b[0m\u001b[0mcentroid_index\u001b[0m\u001b[1;33m]\u001b[0m\u001b[1;33m.\u001b[0m\u001b[0mappend\u001b[0m\u001b[1;33m(\u001b[0m\u001b[0mpoint\u001b[0m\u001b[1;33m)\u001b[0m\u001b[1;33m\u001b[0m\u001b[1;33m\u001b[0m\u001b[0m\n\u001b[0;32m     34\u001b[0m \u001b[1;33m\u001b[0m\u001b[0m\n",
      "\u001b[1;32m~\\AppData\\Local\\Temp\\ipykernel_119672\\1213162553.py\u001b[0m in \u001b[0;36m_closest_centroid\u001b[1;34m(self, point)\u001b[0m\n\u001b[0;32m     40\u001b[0m \u001b[1;33m\u001b[0m\u001b[0m\n\u001b[0;32m     41\u001b[0m     \u001b[1;32mdef\u001b[0m \u001b[0m_closest_centroid\u001b[0m\u001b[1;33m(\u001b[0m\u001b[0mself\u001b[0m\u001b[1;33m,\u001b[0m \u001b[0mpoint\u001b[0m\u001b[1;33m)\u001b[0m\u001b[1;33m:\u001b[0m\u001b[1;33m\u001b[0m\u001b[1;33m\u001b[0m\u001b[0m\n\u001b[1;32m---> 42\u001b[1;33m         \u001b[0mdistances\u001b[0m \u001b[1;33m=\u001b[0m \u001b[1;33m[\u001b[0m\u001b[0mself\u001b[0m\u001b[1;33m.\u001b[0m\u001b[0m_euclidean_distance\u001b[0m\u001b[1;33m(\u001b[0m\u001b[0mpoint\u001b[0m\u001b[1;33m,\u001b[0m \u001b[0mcentroid\u001b[0m\u001b[1;33m)\u001b[0m \u001b[1;32mfor\u001b[0m \u001b[0mcentroid\u001b[0m \u001b[1;32min\u001b[0m \u001b[0mself\u001b[0m\u001b[1;33m.\u001b[0m\u001b[0mcentroids\u001b[0m\u001b[1;33m]\u001b[0m\u001b[1;33m\u001b[0m\u001b[1;33m\u001b[0m\u001b[0m\n\u001b[0m\u001b[0;32m     43\u001b[0m         \u001b[1;32mreturn\u001b[0m \u001b[0mdistances\u001b[0m\u001b[1;33m.\u001b[0m\u001b[0mindex\u001b[0m\u001b[1;33m(\u001b[0m\u001b[0mmin\u001b[0m\u001b[1;33m(\u001b[0m\u001b[0mdistances\u001b[0m\u001b[1;33m)\u001b[0m\u001b[1;33m)\u001b[0m\u001b[1;33m\u001b[0m\u001b[1;33m\u001b[0m\u001b[0m\n\u001b[0;32m     44\u001b[0m \u001b[1;33m\u001b[0m\u001b[0m\n",
      "\u001b[1;32m~\\AppData\\Local\\Temp\\ipykernel_119672\\1213162553.py\u001b[0m in \u001b[0;36m<listcomp>\u001b[1;34m(.0)\u001b[0m\n\u001b[0;32m     40\u001b[0m \u001b[1;33m\u001b[0m\u001b[0m\n\u001b[0;32m     41\u001b[0m     \u001b[1;32mdef\u001b[0m \u001b[0m_closest_centroid\u001b[0m\u001b[1;33m(\u001b[0m\u001b[0mself\u001b[0m\u001b[1;33m,\u001b[0m \u001b[0mpoint\u001b[0m\u001b[1;33m)\u001b[0m\u001b[1;33m:\u001b[0m\u001b[1;33m\u001b[0m\u001b[1;33m\u001b[0m\u001b[0m\n\u001b[1;32m---> 42\u001b[1;33m         \u001b[0mdistances\u001b[0m \u001b[1;33m=\u001b[0m \u001b[1;33m[\u001b[0m\u001b[0mself\u001b[0m\u001b[1;33m.\u001b[0m\u001b[0m_euclidean_distance\u001b[0m\u001b[1;33m(\u001b[0m\u001b[0mpoint\u001b[0m\u001b[1;33m,\u001b[0m \u001b[0mcentroid\u001b[0m\u001b[1;33m)\u001b[0m \u001b[1;32mfor\u001b[0m \u001b[0mcentroid\u001b[0m \u001b[1;32min\u001b[0m \u001b[0mself\u001b[0m\u001b[1;33m.\u001b[0m\u001b[0mcentroids\u001b[0m\u001b[1;33m]\u001b[0m\u001b[1;33m\u001b[0m\u001b[1;33m\u001b[0m\u001b[0m\n\u001b[0m\u001b[0;32m     43\u001b[0m         \u001b[1;32mreturn\u001b[0m \u001b[0mdistances\u001b[0m\u001b[1;33m.\u001b[0m\u001b[0mindex\u001b[0m\u001b[1;33m(\u001b[0m\u001b[0mmin\u001b[0m\u001b[1;33m(\u001b[0m\u001b[0mdistances\u001b[0m\u001b[1;33m)\u001b[0m\u001b[1;33m)\u001b[0m\u001b[1;33m\u001b[0m\u001b[1;33m\u001b[0m\u001b[0m\n\u001b[0;32m     44\u001b[0m \u001b[1;33m\u001b[0m\u001b[0m\n",
      "\u001b[1;32m~\\AppData\\Local\\Temp\\ipykernel_119672\\1213162553.py\u001b[0m in \u001b[0;36m_euclidean_distance\u001b[1;34m(self, image1, image2)\u001b[0m\n\u001b[0;32m     45\u001b[0m     \u001b[1;32mdef\u001b[0m \u001b[0m_euclidean_distance\u001b[0m\u001b[1;33m(\u001b[0m\u001b[0mself\u001b[0m\u001b[1;33m,\u001b[0m \u001b[0mimage1\u001b[0m\u001b[1;33m,\u001b[0m \u001b[0mimage2\u001b[0m\u001b[1;33m)\u001b[0m\u001b[1;33m:\u001b[0m\u001b[1;33m\u001b[0m\u001b[1;33m\u001b[0m\u001b[0m\n\u001b[0;32m     46\u001b[0m         \u001b[0msquared_distance\u001b[0m \u001b[1;33m=\u001b[0m \u001b[0msum\u001b[0m\u001b[1;33m(\u001b[0m\u001b[1;33m(\u001b[0m\u001b[0mpixel1\u001b[0m \u001b[1;33m-\u001b[0m \u001b[0mpixel2\u001b[0m\u001b[1;33m)\u001b[0m \u001b[1;33m**\u001b[0m \u001b[1;36m2\u001b[0m \u001b[1;32mfor\u001b[0m \u001b[0mpixel1\u001b[0m\u001b[1;33m,\u001b[0m \u001b[0mpixel2\u001b[0m \u001b[1;32min\u001b[0m \u001b[0mzip\u001b[0m\u001b[1;33m(\u001b[0m\u001b[0mimage1\u001b[0m\u001b[1;33m,\u001b[0m \u001b[0mimage2\u001b[0m\u001b[1;33m)\u001b[0m\u001b[1;33m)\u001b[0m\u001b[1;33m\u001b[0m\u001b[1;33m\u001b[0m\u001b[0m\n\u001b[1;32m---> 47\u001b[1;33m         \u001b[1;32mreturn\u001b[0m \u001b[0mmath\u001b[0m\u001b[1;33m.\u001b[0m\u001b[0msqrt\u001b[0m\u001b[1;33m(\u001b[0m\u001b[0msquared_distance\u001b[0m\u001b[1;33m)\u001b[0m\u001b[1;33m\u001b[0m\u001b[1;33m\u001b[0m\u001b[0m\n\u001b[0m\u001b[0;32m     48\u001b[0m \u001b[1;33m\u001b[0m\u001b[0m\n\u001b[0;32m     49\u001b[0m \u001b[1;33m\u001b[0m\u001b[0m\n",
      "\u001b[1;31mTypeError\u001b[0m: only size-1 arrays can be converted to Python scalars"
     ]
    }
   ],
   "source": [
    "data = list(zip(X_test, Y_test))\n",
    "kmeans = KMeans(k=3)  # Elige el número de grupos que deseas.\n",
    "kmeans.fit(data)\n",
    "cluster_labels = kmeans.predict(data)"
   ]
  },
  {
   "cell_type": "code",
   "execution_count": 69,
   "metadata": {},
   "outputs": [
    {
     "name": "stdout",
     "output_type": "stream",
     "text": [
      "0.009678263144127649\n"
     ]
    }
   ],
   "source": [
    "import random\n",
    "import math\n",
    "import numpy as np\n",
    "\n",
    "class KMeans:\n",
    "    def __init__(self, k, max_iterations=100):\n",
    "        self.k = k\n",
    "        self.max_iterations = max_iterations\n",
    "\n",
    "    def fit(self, data):\n",
    "        self.centroids = self._initialize_centroids(data)\n",
    "        self.clusters = [[] for _ in range(self.k)]\n",
    "\n",
    "        for _ in range(self.max_iterations):\n",
    "            self._assign_clusters(data)\n",
    "            prev_centroids = self.centroids.copy()\n",
    "            self._update_centroids(data)\n",
    "            if self._has_converged(prev_centroids):\n",
    "                break\n",
    "\n",
    "    def predict(self, data):\n",
    "        labels = []\n",
    "        for point in data:\n",
    "            label = self._get_label(point)\n",
    "            labels.append(label)\n",
    "        return labels\n",
    "\n",
    "    def _initialize_centroids(self, data):\n",
    "        indices = random.sample(range(len(data)), self.k)\n",
    "        centroids = [data[i] for i in indices]\n",
    "        return centroids\n",
    "\n",
    "    def _assign_clusters(self, data):\n",
    "        self.clusters = [[] for _ in range(self.k)]\n",
    "        for point in data:\n",
    "            centroid_index = self._closest_centroid(point)\n",
    "            self.clusters[centroid_index].append(point)\n",
    "\n",
    "    def _update_centroids(self, data):\n",
    "        for i in range(self.k):\n",
    "            if self.clusters[i]:\n",
    "                centroid = self._calculate_centroid(self.clusters[i])\n",
    "                self.centroids[i] = centroid\n",
    "\n",
    "    def _closest_centroid(self, point):\n",
    "        distances = [self._euclidean_distance(point, centroid) for centroid in self.centroids]\n",
    "        return distances.index(min(distances))\n",
    "\n",
    "    def _euclidean_distance(self, point1, point2):\n",
    "        squared_distance = np.sum((point1 - point2) ** 2)\n",
    "        return math.sqrt(squared_distance)\n",
    "\n",
    "    def _calculate_centroid(self, cluster):\n",
    "        centroid = np.mean(cluster, axis=0)\n",
    "        return centroid\n",
    "\n",
    "    def _has_converged(self, prev_centroids):\n",
    "        return np.array_equal(self.centroids, prev_centroids)\n",
    "\n",
    "    def _get_label(self, point):\n",
    "        return self._closest_centroid(point)\n",
    "\n",
    "\n",
    "# Supongamos que tienes las imágenes en un arreglo de NumPy de forma (100, 64) y las etiquetas en un arreglo de forma (100,)\n",
    "images = X_train\n",
    "labels = Y_train\n",
    "\n",
    "# Crear una instancia de KMeans y ajustar los datos\n",
    "kmeans = KMeans(k=10)  # Número de grupos = 10\n",
    "kmeans.fit(images)\n",
    "cluster_labels = kmeans.predict(images)\n",
    "\n",
    "confussion_matrix = np.zeros((10,10))\n",
    "\n",
    "# Imprimir las etiquetas asignadas a cada imagen\n",
    "for i in range(len(images)):\n",
    "    confussion_matrix[labels[i]][cluster_labels[i]] += 1\n",
    "    #print(f\"Imagen {i}: Etiqueta real = {labels[i]}, Etiqueta asignada = {cluster_labels[i]}\")\n",
    "\n",
    "print((np.trace(confussion_matrix))/np.sum(confussion_matrix))\n"
   ]
  },
  {
   "cell_type": "code",
   "execution_count": 68,
   "metadata": {},
   "outputs": [
    {
     "name": "stdout",
     "output_type": "stream",
     "text": [
      "0.1909495160868428\n"
     ]
    }
   ],
   "source": [
    "print((np.trace(confussion_matrix))/np.sum(confussion_matrix))"
   ]
  },
  {
   "cell_type": "code",
   "execution_count": 70,
   "metadata": {},
   "outputs": [
    {
     "name": "stdout",
     "output_type": "stream",
     "text": [
      "[7]\n"
     ]
    }
   ],
   "source": [
    "import numpy as np\n",
    "from sklearn.datasets import load_digits\n",
    "\n",
    "# Load the dataset\n",
    "digits = load_digits()\n",
    "X = X_train\n",
    "\n",
    "# Initialize the centroids\n",
    "k = 10\n",
    "centroids = X[np.random.choice(X.shape[0], k, replace=False)]\n",
    "\n",
    "# Assign clusters\n",
    "for i in range(1000):\n",
    "    distances = np.sqrt(((X - centroids[:, np.newaxis])**2).sum(axis=2))\n",
    "    labels = np.argmin(distances, axis=0)\n",
    "\n",
    "    # Update centroids\n",
    "    for j in range(k):\n",
    "        centroids[j] = X[labels == j].mean(axis=0)\n",
    "\n",
    "# Predict the class of new images\n",
    "new_image = X_test[0, :]\n",
    "distances = np.sqrt(((new_image - centroids[:, np.newaxis])**2).sum(axis=2))\n",
    "label = np.argmin(distances, axis=0)\n",
    "print(label)"
   ]
  },
  {
   "cell_type": "code",
   "execution_count": 71,
   "metadata": {},
   "outputs": [
    {
     "name": "stdout",
     "output_type": "stream",
     "text": [
      "Homogeneity score: 0.7041310190116059\n"
     ]
    }
   ],
   "source": [
    "import numpy as np\n",
    "from sklearn.datasets import load_digits\n",
    "from sklearn.metrics import homogeneity_score\n",
    "\n",
    "# Load the dataset\n",
    "digits = load_digits()\n",
    "X = digits.data\n",
    "y = digits.target\n",
    "\n",
    "\n",
    "# Initialize the centroids\n",
    "k = 10\n",
    "centroids = X[np.random.choice(X.shape[0], k, replace=False)]\n",
    "\n",
    "# Assign clusters\n",
    "for i in range(100):\n",
    "    distances = np.sqrt(((X - centroids[:, np.newaxis])**2).sum(axis=2))\n",
    "    labels = np.argmin(distances, axis=0)\n",
    "\n",
    "    # Update centroids\n",
    "    for j in range(k):\n",
    "        centroids[j] = X[labels == j].mean(axis=0)\n",
    "\n",
    "# Calculate homogeneity score\n",
    "score = homogeneity_score(y, labels)\n",
    "print(\"Homogeneity score:\", score)\n"
   ]
  }
 ],
 "metadata": {
  "kernelspec": {
   "display_name": "base",
   "language": "python",
   "name": "python3"
  },
  "language_info": {
   "codemirror_mode": {
    "name": "ipython",
    "version": 3
   },
   "file_extension": ".py",
   "mimetype": "text/x-python",
   "name": "python",
   "nbconvert_exporter": "python",
   "pygments_lexer": "ipython3",
   "version": "3.9.13"
  },
  "orig_nbformat": 4
 },
 "nbformat": 4,
 "nbformat_minor": 2
}
