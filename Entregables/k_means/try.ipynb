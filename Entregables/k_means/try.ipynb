{
 "cells": [
  {
   "cell_type": "code",
   "execution_count": 2,
   "metadata": {},
   "outputs": [
    {
     "name": "stdout",
     "output_type": "stream",
     "text": [
      "Centroides:\n",
      "[array([7.33333333, 9.        ]), array([1.16666667, 1.46666667])]\n",
      "Clústeres:\n",
      "Clúster 0:\n",
      "[array([5., 8.]), array([8., 8.]), array([ 9., 11.])]\n",
      "Clúster 1:\n",
      "[array([1., 2.]), array([1.5, 1.8]), array([1. , 0.6])]\n"
     ]
    }
   ],
   "source": [
    "import numpy as np\n",
    "\n",
    "# Función para calcular la distancia euclidiana entre dos puntos\n",
    "def euclidean_distance(point1, point2):\n",
    "    return np.sqrt(np.sum((point1 - point2) ** 2))\n",
    "\n",
    "# Implementación del algoritmo de K-means\n",
    "def kmeans(X, k, max_iterations=100):\n",
    "    # Inicialización: seleccionar k puntos aleatorios como centroides iniciales\n",
    "    centroids = X[np.random.choice(range(len(X)), k, replace=False)]\n",
    "    \n",
    "    for _ in range(max_iterations):\n",
    "        # Paso 1: asignación de puntos al clúster más cercano\n",
    "        clusters = [[] for _ in range(k)]\n",
    "        for point in X:\n",
    "            distances = [euclidean_distance(point, centroid) for centroid in centroids]\n",
    "            closest_centroid = np.argmin(distances)\n",
    "            clusters[closest_centroid].append(point)\n",
    "        \n",
    "        # Paso 2: recálculo de centroides\n",
    "        new_centroids = []\n",
    "        for cluster in clusters:\n",
    "            new_centroid = np.mean(cluster, axis=0)\n",
    "            new_centroids.append(new_centroid)\n",
    "        \n",
    "        # Verificar si los centroides ya no cambian\n",
    "        if np.array_equal(centroids, new_centroids):\n",
    "            break\n",
    "\n",
    "        \n",
    "        centroids = new_centroids\n",
    "    \n",
    "    return centroids, clusters\n",
    "\n",
    "# Ejemplo de uso\n",
    "X = np.array([[1, 2], [1.5, 1.8], [5, 8], [8, 8], [1, 0.6], [9, 11]])\n",
    "\n",
    "k = 2\n",
    "centroids, clusters = kmeans(X, k)\n",
    "\n",
    "# Imprimir los centroides y los puntos en cada clúster\n",
    "print(\"Centroides:\")\n",
    "print(centroids)\n",
    "print(\"Clústeres:\")\n",
    "for i, cluster in enumerate(clusters):\n",
    "    print(f\"Clúster {i}:\")\n",
    "    print(cluster)\n"
   ]
  }
 ],
 "metadata": {
  "kernelspec": {
   "display_name": "base",
   "language": "python",
   "name": "python3"
  },
  "language_info": {
   "codemirror_mode": {
    "name": "ipython",
    "version": 3
   },
   "file_extension": ".py",
   "mimetype": "text/x-python",
   "name": "python",
   "nbconvert_exporter": "python",
   "pygments_lexer": "ipython3",
   "version": "3.9.13"
  },
  "orig_nbformat": 4
 },
 "nbformat": 4,
 "nbformat_minor": 2
}
