{
 "cells": [
  {
   "cell_type": "code",
   "execution_count": 2,
   "metadata": {},
   "outputs": [
    {
     "name": "stdout",
     "output_type": "stream",
     "text": [
      "[1, 1]\n"
     ]
    }
   ],
   "source": [
    "import numpy as np\n",
    "\n",
    "# Función para calcular la distancia euclidiana entre dos puntos\n",
    "def euclidean_distance(x1, x2):\n",
    "    return np.sqrt(np.sum((x1 - x2) ** 2))\n",
    "\n",
    "# Clase del clasificador K-NN\n",
    "class KNNClassifier:\n",
    "    def __init__(self, k):\n",
    "        self.k = k\n",
    "\n",
    "    def fit(self, X_train, y_train):\n",
    "        self.X_train = X_train\n",
    "        self.y_train = y_train\n",
    "\n",
    "    def predict(self, X_test):\n",
    "        y_pred = []\n",
    "        for i in range(len(X_test)):\n",
    "            distances = []\n",
    "            for j in range(len(self.X_train)):\n",
    "                dist = euclidean_distance(X_test[i], self.X_train[j])\n",
    "                distances.append((dist, self.y_train[j]))\n",
    "            distances.sort(key=lambda x: x[0])  # Ordenar distancias de menor a mayor\n",
    "            neighbors = distances[:self.k]  # Obtener los k vecinos más cercanos\n",
    "            classes = [neighbor[1] for neighbor in neighbors]  # Obtener las clases de los vecinos\n",
    "            y_pred.append(max(set(classes), key=classes.count))  # Clasificación por voto mayoritario\n",
    "        return y_pred\n",
    "\n",
    "# Ejemplo de uso\n",
    "X_train = np.array([[1, 2, 3], [4, 5, 6], [7, 8, 9], [10, 11, 12]])\n",
    "y_train = np.array([0, 1, 1, 0])\n",
    "X_test = np.array([[2, 3, 4], [5, 6, 7]])\n",
    "\n",
    "knn = KNNClassifier(k=3)\n",
    "knn.fit(X_train, y_train)\n",
    "predictions = knn.predict(X_test)\n",
    "\n",
    "print(predictions)\n"
   ]
  }
 ],
 "metadata": {
  "kernelspec": {
   "display_name": "base",
   "language": "python",
   "name": "python3"
  },
  "language_info": {
   "codemirror_mode": {
    "name": "ipython",
    "version": 3
   },
   "file_extension": ".py",
   "mimetype": "text/x-python",
   "name": "python",
   "nbconvert_exporter": "python",
   "pygments_lexer": "ipython3",
   "version": "3.9.13"
  },
  "orig_nbformat": 4
 },
 "nbformat": 4,
 "nbformat_minor": 2
}
