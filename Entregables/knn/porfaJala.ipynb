{
 "cells": [
  {
   "cell_type": "code",
   "execution_count": 10,
   "metadata": {},
   "outputs": [
    {
     "name": "stdout",
     "output_type": "stream",
     "text": [
      "Archivo creado exitosamente.\n",
      "Líneas aleatorias guardadas en el archivo: randomTest.txt\n",
      "(5, 12377)\n",
      "(1, 1)\n"
     ]
    },
    {
     "ename": "IndexError",
     "evalue": "only integers, slices (`:`), ellipsis (`...`), numpy.newaxis (`None`) and integer or boolean arrays are valid indices",
     "output_type": "error",
     "traceback": [
      "\u001b[1;31m---------------------------------------------------------------------------\u001b[0m",
      "\u001b[1;31mIndexError\u001b[0m                                Traceback (most recent call last)",
      "\u001b[1;32m~\\AppData\\Local\\Temp\\ipykernel_91200\\2065356425.py\u001b[0m in \u001b[0;36m<module>\u001b[1;34m\u001b[0m\n\u001b[0;32m    108\u001b[0m     \u001b[1;32mreturn\u001b[0m \u001b[0maccuracy\u001b[0m\u001b[1;33m\u001b[0m\u001b[1;33m\u001b[0m\u001b[0m\n\u001b[0;32m    109\u001b[0m \u001b[1;33m\u001b[0m\u001b[0m\n\u001b[1;32m--> 110\u001b[1;33m \u001b[0mknnAlgorithm\u001b[0m\u001b[1;33m(\u001b[0m\u001b[0mX_train\u001b[0m\u001b[1;33m,\u001b[0m \u001b[0mY_train\u001b[0m\u001b[1;33m,\u001b[0m \u001b[0mX_test\u001b[0m\u001b[1;33m,\u001b[0m \u001b[0mY_test\u001b[0m\u001b[1;33m,\u001b[0m \u001b[1;36m3\u001b[0m\u001b[1;33m)\u001b[0m\u001b[1;33m\u001b[0m\u001b[1;33m\u001b[0m\u001b[0m\n\u001b[0m\u001b[0;32m    111\u001b[0m \u001b[0mknnAlgorithm\u001b[0m\u001b[1;33m(\u001b[0m\u001b[0mX_train\u001b[0m\u001b[1;33m,\u001b[0m \u001b[0mY_train\u001b[0m\u001b[1;33m,\u001b[0m \u001b[0mX_test\u001b[0m\u001b[1;33m,\u001b[0m \u001b[0mY_test\u001b[0m\u001b[1;33m,\u001b[0m \u001b[1;36m6\u001b[0m\u001b[1;33m)\u001b[0m\u001b[1;33m\u001b[0m\u001b[1;33m\u001b[0m\u001b[0m\n\u001b[0;32m    112\u001b[0m \u001b[0mknnAlgorithm\u001b[0m\u001b[1;33m(\u001b[0m\u001b[0mX_train\u001b[0m\u001b[1;33m,\u001b[0m \u001b[0mY_train\u001b[0m\u001b[1;33m,\u001b[0m \u001b[0mX_test\u001b[0m\u001b[1;33m,\u001b[0m \u001b[0mY_test\u001b[0m\u001b[1;33m,\u001b[0m \u001b[1;36m9\u001b[0m\u001b[1;33m)\u001b[0m\u001b[1;33m\u001b[0m\u001b[1;33m\u001b[0m\u001b[0m\n",
      "\u001b[1;32m~\\AppData\\Local\\Temp\\ipykernel_91200\\2065356425.py\u001b[0m in \u001b[0;36mknnAlgorithm\u001b[1;34m(X_train, Y_train, X_test, Y_test, k)\u001b[0m\n\u001b[0;32m    103\u001b[0m     \u001b[0mprint\u001b[0m\u001b[1;33m(\u001b[0m\u001b[0mconfussionMatrix\u001b[0m\u001b[1;33m.\u001b[0m\u001b[0mshape\u001b[0m\u001b[1;33m)\u001b[0m\u001b[1;33m\u001b[0m\u001b[1;33m\u001b[0m\u001b[0m\n\u001b[0;32m    104\u001b[0m     \u001b[1;32mfor\u001b[0m \u001b[0mi\u001b[0m \u001b[1;32min\u001b[0m \u001b[0mrange\u001b[0m\u001b[1;33m(\u001b[0m\u001b[0mlen\u001b[0m\u001b[1;33m(\u001b[0m\u001b[0mpredictions\u001b[0m\u001b[1;33m)\u001b[0m\u001b[1;33m)\u001b[0m\u001b[1;33m:\u001b[0m\u001b[1;33m\u001b[0m\u001b[1;33m\u001b[0m\u001b[0m\n\u001b[1;32m--> 105\u001b[1;33m         \u001b[0mconfussionMatrix\u001b[0m\u001b[1;33m[\u001b[0m\u001b[0mpredictions\u001b[0m\u001b[1;33m[\u001b[0m\u001b[0mi\u001b[0m\u001b[1;33m]\u001b[0m\u001b[1;33m]\u001b[0m\u001b[1;33m[\u001b[0m\u001b[0mY_test\u001b[0m\u001b[1;33m[\u001b[0m\u001b[0mi\u001b[0m\u001b[1;33m]\u001b[0m\u001b[1;33m]\u001b[0m \u001b[1;33m+=\u001b[0m \u001b[1;36m1\u001b[0m\u001b[1;33m\u001b[0m\u001b[1;33m\u001b[0m\u001b[0m\n\u001b[0m\u001b[0;32m    106\u001b[0m     \u001b[0maccuracy\u001b[0m \u001b[1;33m=\u001b[0m \u001b[0mnp\u001b[0m\u001b[1;33m.\u001b[0m\u001b[0mtrace\u001b[0m\u001b[1;33m(\u001b[0m\u001b[0mconfussionMatrix\u001b[0m\u001b[1;33m)\u001b[0m \u001b[1;33m/\u001b[0m \u001b[0mnp\u001b[0m\u001b[1;33m.\u001b[0m\u001b[0msum\u001b[0m\u001b[1;33m(\u001b[0m\u001b[0mconfussionMatrix\u001b[0m\u001b[1;33m)\u001b[0m\u001b[1;33m\u001b[0m\u001b[1;33m\u001b[0m\u001b[0m\n\u001b[0;32m    107\u001b[0m     \u001b[0mprint\u001b[0m\u001b[1;33m(\u001b[0m\u001b[1;34m\"The accuracy with k =\"\u001b[0m\u001b[1;33m,\u001b[0m \u001b[0mk\u001b[0m\u001b[1;33m,\u001b[0m \u001b[1;34m\"is\"\u001b[0m\u001b[1;33m,\u001b[0m \u001b[0maccuracy\u001b[0m\u001b[1;33m)\u001b[0m\u001b[1;33m\u001b[0m\u001b[1;33m\u001b[0m\u001b[0m\n",
      "\u001b[1;31mIndexError\u001b[0m: only integers, slices (`:`), ellipsis (`...`), numpy.newaxis (`None`) and integer or boolean arrays are valid indices"
     ]
    }
   ],
   "source": [
    "import random\n",
    "import numpy as np\n",
    "\n",
    "def euclidean_distance(x1, x2):\n",
    "    return np.sqrt(np.sum((x1 - x2) ** 2))\n",
    "\n",
    "class KNNClassifier:\n",
    "    def __init__(self, k):\n",
    "        self.k = k\n",
    "\n",
    "    def fit(self, X_train, y_train):\n",
    "        self.X_train = X_train\n",
    "        self.y_train = y_train\n",
    "\n",
    "    def predict(self, X_test):\n",
    "        y_pred = []\n",
    "        for i in range(len(X_test)):\n",
    "            distances = []\n",
    "            for j in range(len(self.X_train)):\n",
    "                dist = euclidean_distance(X_test[i], self.X_train[j])\n",
    "                distances.append((dist, self.y_train[j]))\n",
    "            distances.sort(key=lambda x: x[0])  # Ordenar distancias de menor a mayor\n",
    "            neighbors = distances[:self.k]  # Obtener los k vecinos más cercanos\n",
    "            classes = [neighbor[1] for neighbor in neighbors]  # Obtener las clases de los vecinos\n",
    "            y_pred.append(max(set(classes), key=classes.count))  # Clasificación por voto mayoritario\n",
    "        return y_pred\n",
    "\n",
    "def readArchive5(fileName):\n",
    "    with open(fileName, 'r') as file:\n",
    "        lines = file.readlines()[:5]\n",
    "\n",
    "    # Elimina los caracteres de salto de línea y divide los valores por comas\n",
    "    data = [line.strip().split(',') for line in lines]\n",
    "\n",
    "    # Convierte la lista en una matriz de numpy\n",
    "    return data\n",
    "\n",
    "def merge_files(file1, file2, output_file):\n",
    "    data1 = readArchive5(file1)\n",
    "    data2 = readArchive5(file2)\n",
    "\n",
    "    merged_data = data1 + data2\n",
    "\n",
    "    with open(output_file, 'w') as file:\n",
    "        for line in merged_data:\n",
    "            file.write(','.join(line) + '\\n')\n",
    "\n",
    "    print(\"Archivo creado exitosamente.\")\n",
    "\n",
    "# Ejemplo de uso\n",
    "file1 = \"vector_yes.txt\"\n",
    "file2 = \"vector_no.txt\"\n",
    "output_file = \"firtsTrain.txt\"\n",
    "\n",
    "merge_files(file1, file2, output_file)\n",
    "\n",
    "def save_random_lines(file1, file2, output_file, num_lines):\n",
    "    lines_file1 = []\n",
    "    lines_file2 = []\n",
    "\n",
    "    with open(file1, 'r') as f1:\n",
    "        lines_file1 = f1.readlines()\n",
    "\n",
    "    with open(file2, 'r') as f2:\n",
    "        lines_file2 = f2.readlines()\n",
    "\n",
    "    random_lines_file1 = random.sample(lines_file1, num_lines)\n",
    "    random_lines_file2 = random.sample(lines_file2, num_lines)\n",
    "\n",
    "    with open(output_file, 'w') as output:\n",
    "        for line in random_lines_file1:\n",
    "            output.write(line)\n",
    "\n",
    "        for line in random_lines_file2:\n",
    "            output.write(line)\n",
    "\n",
    "    print(\"Líneas aleatorias guardadas en el archivo:\", output_file)\n",
    "\n",
    "# Ejemplo de uso\n",
    "file1 = \"vector_yes.txt\"\n",
    "file2 = \"vector_no.txt\"\n",
    "output_file = \"randomTest.txt\"\n",
    "num_lines = 5\n",
    "\n",
    "save_random_lines(file1, file2, output_file, num_lines)\n",
    "\n",
    "dataTrain = np.array(readArchive5('firtsTrain.txt'))\n",
    "print(dataTrain.shape)\n",
    "X_train = dataTrain[:, :12376].astype(float)  # Ensure elements are of numeric type\n",
    "Y_train = dataTrain[:, 12376]\n",
    "\n",
    "dataTest = np.array(readArchive5('randomTest.txt'))\n",
    "X_test = dataTest[:, :12376].astype(float)  # Ensure elements are of numeric type\n",
    "Y_test = dataTest[:, 12376]\n",
    "\n",
    "def knnAlgorithm(X_train, Y_train, X_test, Y_test, k):\n",
    "    classes = np.unique(Y_train)\n",
    "    confussionMatrix = np.zeros((len(classes), len(classes)), dtype=int)\n",
    "    knn = KNNClassifier(k)\n",
    "    knn.fit(X_train, Y_train)\n",
    "    predictions = knn.predict(X_test)\n",
    "    Y_test = np.array(Y_test, dtype=int)  # Convert Y_test to integers\n",
    "    print(confussionMatrix.shape)\n",
    "    for i in range(len(predictions)):\n",
    "        confussionMatrix[predictions[i]][Y_test[i]] += 1\n",
    "    accuracy = np.trace(confussionMatrix) / np.sum(confussionMatrix)\n",
    "    print(\"The accuracy with k =\", k, \"is\", accuracy)\n",
    "    return accuracy\n",
    "\n",
    "knnAlgorithm(X_train, Y_train, X_test, Y_test, 3)\n",
    "knnAlgorithm(X_train, Y_train, X_test, Y_test, 6)\n",
    "knnAlgorithm(X_train, Y_train, X_test, Y_test, 9)\n"
   ]
  },
  {
   "cell_type": "code",
   "execution_count": 8,
   "metadata": {},
   "outputs": [
    {
     "name": "stdout",
     "output_type": "stream",
     "text": [
      "['1']\n"
     ]
    },
    {
     "ename": "NameError",
     "evalue": "name 'confussionMatrix' is not defined",
     "output_type": "error",
     "traceback": [
      "\u001b[1;31m---------------------------------------------------------------------------\u001b[0m",
      "\u001b[1;31mNameError\u001b[0m                                 Traceback (most recent call last)",
      "\u001b[1;32m~\\AppData\\Local\\Temp\\ipykernel_91200\\1727378612.py\u001b[0m in \u001b[0;36m<module>\u001b[1;34m\u001b[0m\n\u001b[0;32m      1\u001b[0m \u001b[0mprint\u001b[0m\u001b[1;33m(\u001b[0m\u001b[0mnp\u001b[0m\u001b[1;33m.\u001b[0m\u001b[0munique\u001b[0m\u001b[1;33m(\u001b[0m\u001b[0mY_test\u001b[0m\u001b[1;33m)\u001b[0m\u001b[1;33m)\u001b[0m\u001b[1;33m\u001b[0m\u001b[1;33m\u001b[0m\u001b[0m\n\u001b[0;32m      2\u001b[0m \u001b[1;33m\u001b[0m\u001b[0m\n\u001b[1;32m----> 3\u001b[1;33m \u001b[0mprint\u001b[0m\u001b[1;33m(\u001b[0m\u001b[0mconfussionMatrix\u001b[0m\u001b[1;33m.\u001b[0m\u001b[0mshape\u001b[0m\u001b[1;33m)\u001b[0m\u001b[1;33m\u001b[0m\u001b[1;33m\u001b[0m\u001b[0m\n\u001b[0m",
      "\u001b[1;31mNameError\u001b[0m: name 'confussionMatrix' is not defined"
     ]
    }
   ],
   "source": [
    "print(np.unique(Y_test))\n",
    "\n",
    "\n"
   ]
  }
 ],
 "metadata": {
  "kernelspec": {
   "display_name": "base",
   "language": "python",
   "name": "python3"
  },
  "language_info": {
   "codemirror_mode": {
    "name": "ipython",
    "version": 3
   },
   "file_extension": ".py",
   "mimetype": "text/x-python",
   "name": "python",
   "nbconvert_exporter": "python",
   "pygments_lexer": "ipython3",
   "version": "3.9.13"
  },
  "orig_nbformat": 4
 },
 "nbformat": 4,
 "nbformat_minor": 2
}
