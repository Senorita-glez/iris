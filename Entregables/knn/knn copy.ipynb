{
 "cells": [
  {
   "cell_type": "code",
   "execution_count": 157,
   "metadata": {},
   "outputs": [],
   "source": [
    "import numpy as np"
   ]
  },
  {
   "cell_type": "code",
   "execution_count": 158,
   "metadata": {},
   "outputs": [],
   "source": [
    "def euclidean_distance(x1, x2):\n",
    "    distance = np.sqrt(np.sum((x1 - x2) ** 2))\n",
    "    return distance \n",
    "\n",
    "\n",
    "class KNNClassifier:\n",
    "    def __init__(self, k):\n",
    "        self.k = k\n",
    "\n",
    "    def fit(self, X_train, y_train):\n",
    "        self.X_train = X_train\n",
    "        self.y_train = y_train\n",
    "\n",
    "    def predict(self, X_test):\n",
    "        y_pred = []\n",
    "        for i in range(len(X_test)):\n",
    "            distances = []\n",
    "            for j in range(len(self.X_train)):\n",
    "                dist = euclidean_distance(X_test[i], self.X_train[j])\n",
    "                distances.append((dist, self.y_train[j]))\n",
    "            distances.sort(key=lambda x: x[0])  # Ordenar distancias de menor a mayor\n",
    "            neighbors = distances[:self.k]  # Obtener los k vecinos más cercanos\n",
    "            classes = [neighbor[1] for neighbor in neighbors]  # Obtener las clases de los vecinos\n",
    "            y_pred.append(max(set(classes), key=classes.count))  # Clasificación por voto mayoritario\n",
    "        return y_pred\n",
    "    "
   ]
  },
  {
   "cell_type": "code",
   "execution_count": 159,
   "metadata": {},
   "outputs": [],
   "source": [
    "def readArchive(fileName):\n",
    "    with open(fileName, 'r') as file:\n",
    "        lines = file.readlines()\n",
    "\n",
    "    # Elimina los caracteres de salto de línea y divide los valores por comas\n",
    "    data = [line.strip().split(',') for line in lines]\n",
    "\n",
    "    # Convierte la lista en una matriz de numpy\n",
    "    return np.array(data, dtype=int)\n",
    "\n",
    "dataTrain = readArchive('optdigits.tra')\n",
    "\n",
    "X_train = dataTrain[:, :64]\n",
    "Y_train = dataTrain[:, 64]\n",
    "\n",
    "dataTest = readArchive('optdigits.tes')\n",
    "X_test = dataTest[:, :64]\n",
    "Y_test = dataTest[: , 64]"
   ]
  },
  {
   "cell_type": "code",
   "execution_count": 160,
   "metadata": {},
   "outputs": [
    {
     "name": "stdout",
     "output_type": "stream",
     "text": [
      "Archivo creado exitosamente.\n"
     ]
    }
   ],
   "source": [
    "def readArchive5(fileName, n):\n",
    "    with open(fileName, 'r') as file:\n",
    "        lines = file.readlines()[:n]\n",
    "\n",
    "    # Elimina los caracteres de salto de línea y divide los valores por comas\n",
    "    data = [line.strip().split(',') for line in lines]\n",
    "\n",
    "    # Convierte la lista en una matriz de numpy\n",
    "    return data\n",
    "\n",
    "def merge_files(file1, file2, n, output_file):\n",
    "    data1 = readArchive5(file1, n)\n",
    "    data2 = readArchive5(file2, n)\n",
    "\n",
    "    merged_data = data1 + data2\n",
    "\n",
    "    with open(output_file, 'w') as file:\n",
    "        for line in merged_data:\n",
    "            file.write(','.join(line) + '\\n')\n",
    "\n",
    "    print(\"Archivo creado exitosamente.\")\n",
    "\n",
    "# Ejemplo de uso\n",
    "file1 = \"vector_yes.txt\"\n",
    "file2 = \"vector_no.txt\"\n",
    "output_file = \"firtsTrain.txt\"\n",
    "\n",
    "merge_files(file1, file2, 50, output_file)\n"
   ]
  },
  {
   "cell_type": "code",
   "execution_count": 161,
   "metadata": {},
   "outputs": [
    {
     "name": "stdout",
     "output_type": "stream",
     "text": [
      "Líneas aleatorias guardadas en el archivo: randomTest.txt\n"
     ]
    }
   ],
   "source": [
    "import random\n",
    "\n",
    "def save_random_lines(file1, file2, output_file, num_lines):\n",
    "    lines_file1 = []\n",
    "    lines_file2 = []\n",
    "\n",
    "    with open(file1, 'r') as f1:\n",
    "        lines_file1 = f1.readlines()\n",
    "\n",
    "    with open(file2, 'r') as f2:\n",
    "        lines_file2 = f2.readlines()\n",
    "\n",
    "    random_lines_file1 = random.sample(lines_file1, num_lines)\n",
    "    random_lines_file2 = random.sample(lines_file2, num_lines)\n",
    "\n",
    "    with open(output_file, 'w') as output:\n",
    "        for line in random_lines_file1:\n",
    "            output.write(line)\n",
    "\n",
    "        for line in random_lines_file2:\n",
    "            output.write(line)\n",
    "\n",
    "    print(\"Líneas aleatorias guardadas en el archivo:\", output_file)\n",
    "\n",
    "# Ejemplo de uso\n",
    "file1 = \"vector_yes.txt\"\n",
    "file2 = \"vector_no.txt\"\n",
    "output_file = \"randomTest.txt\"\n",
    "num_lines = 40\n",
    "\n",
    "save_random_lines(file1, file2, output_file, num_lines)\n"
   ]
  },
  {
   "cell_type": "code",
   "execution_count": 162,
   "metadata": {},
   "outputs": [
    {
     "name": "stdout",
     "output_type": "stream",
     "text": [
      "(100, 12377)\n",
      "(80, 12377)\n"
     ]
    }
   ],
   "source": [
    "\n",
    "dataTrain = np.array(readArchive('firtsTrain.txt'))\n",
    "print(dataTrain.shape)\n",
    "X_train = dataTrain[:, :12376]\n",
    "Y_train = dataTrain[:, 12376]\n",
    "\n",
    "dataTest = np.array(readArchive('randomTest.txt'))\n",
    "X_test = dataTest[:, :12376]\n",
    "Y_test = dataTest[: , 12376]\n",
    "print(dataTest.shape)"
   ]
  },
  {
   "cell_type": "code",
   "execution_count": 163,
   "metadata": {},
   "outputs": [],
   "source": [
    "def knnAlgorithm(X_train, Y_train, X_test, Y_test, k):\n",
    "    clases = np.unique(Y_train)\n",
    "    confussionMatrix = np.zeros((len(clases),len(clases)), dtype=int)\n",
    "    knn = KNNClassifier(k)\n",
    "    knn.fit(X_train, Y_train)\n",
    "    predictions = knn.predict(X_test)\n",
    "    for i in range (len(predictions)):\n",
    "        confussionMatrix[predictions[i]][Y_test[i]] += 1\n",
    "    accuracy = np.trace(confussionMatrix)/np.sum(confussionMatrix)\n",
    "    print(\"the accuracy with k = \",k, \" is \",accuracy)\n",
    "    return accuracy"
   ]
  },
  {
   "cell_type": "code",
   "execution_count": 164,
   "metadata": {},
   "outputs": [
    {
     "name": "stderr",
     "output_type": "stream",
     "text": [
      "C:\\Users\\Daphne\\AppData\\Local\\Temp\\ipykernel_103080\\1364351196.py:2: RuntimeWarning: invalid value encountered in sqrt\n",
      "  distance = np.sqrt(np.sum((x1 - x2) ** 2))\n"
     ]
    },
    {
     "name": "stdout",
     "output_type": "stream",
     "text": [
      "the accuracy with k =  3  is  0.5\n",
      "the accuracy with k =  6  is  0.5\n",
      "the accuracy with k =  9  is  0.5\n"
     ]
    },
    {
     "data": {
      "text/plain": [
       "0.5"
      ]
     },
     "execution_count": 164,
     "metadata": {},
     "output_type": "execute_result"
    }
   ],
   "source": [
    "knnAlgorithm(X_train, Y_train, X_test, Y_test, 3)\n",
    "knnAlgorithm(X_train, Y_train, X_test, Y_test, 6)\n",
    "knnAlgorithm(X_train, Y_train, X_test, Y_test, 9)"
   ]
  }
 ],
 "metadata": {
  "kernelspec": {
   "display_name": "base",
   "language": "python",
   "name": "python3"
  },
  "language_info": {
   "codemirror_mode": {
    "name": "ipython",
    "version": 3
   },
   "file_extension": ".py",
   "mimetype": "text/x-python",
   "name": "python",
   "nbconvert_exporter": "python",
   "pygments_lexer": "ipython3",
   "version": "3.9.13"
  },
  "orig_nbformat": 4
 },
 "nbformat": 4,
 "nbformat_minor": 2
}
