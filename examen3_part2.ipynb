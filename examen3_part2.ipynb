{
 "cells": [
  {
   "attachments": {},
   "cell_type": "markdown",
   "metadata": {},
   "source": [
    "Elaborado por Daphne Sofia Gonzalez Cano\n",
    "Parte 2 del 3er examen parcial"
   ]
  },
  {
   "cell_type": "code",
   "execution_count": 1,
   "metadata": {},
   "outputs": [],
   "source": [
    "from math import sqrt\n",
    "import numpy as np"
   ]
  },
  {
   "cell_type": "code",
   "execution_count": 2,
   "metadata": {},
   "outputs": [
    {
     "name": "stdout",
     "output_type": "stream",
     "text": [
      "(150, 5)\n",
      "(90, 4)\n",
      "(90,)\n",
      "(60, 4)\n",
      "(60,)\n"
     ]
    }
   ],
   "source": [
    "def getNPmatrix(archive):\n",
    "    with open(archive, 'r') as file:\n",
    "        lines = file.readlines()\n",
    "        \n",
    "    data = [line.strip().split(',') for line in lines]\n",
    "\n",
    "    return np.array(data, dtype=float)\n",
    "\n",
    "data = getNPmatrix('irism.data')\n",
    "print(data.shape)\n",
    "\n",
    "dataTrain = data[:90, :4]\n",
    "label_train = data[:90, 4]\n",
    "print(dataTrain.shape)\n",
    "print(label_train.shape)\n",
    "\n",
    "dataTest = data[90:150, :4]\n",
    "label_test = data[90:150, 4]\n",
    "print(dataTest.shape)\n",
    "print(label_test.shape)"
   ]
  },
  {
   "cell_type": "code",
   "execution_count": 3,
   "metadata": {},
   "outputs": [
    {
     "name": "stdout",
     "output_type": "stream",
     "text": [
      "[3.454 3.418 1.464 0.244 1.   ] [2.828 2.77  4.26  1.326 2.   ] [3.032 2.974 5.552 2.026 3.   ]\n"
     ]
    }
   ],
   "source": [
    "def promLabel(label, data):\n",
    "    dataprom = np.zeros_like(data[0, :])\n",
    "    cont = 0 \n",
    "    for i in range (data.shape[0]):\n",
    "        if data[i][4] == label:\n",
    "           dataprom[0] = dataprom[1] + data[i][0]\n",
    "           dataprom[1] = dataprom[1] + data[i][1]\n",
    "           dataprom[2] = dataprom[2] + data[i][2]\n",
    "           dataprom[3] = dataprom[3] + data[i][3]\n",
    "           dataprom[4] = dataprom[4] + data[i][4]\n",
    "           cont =cont + 1\n",
    "    return (dataprom/cont)\n",
    "\n",
    "prom1 = promLabel(1, data)   \n",
    "prom2 = promLabel(2, data)\n",
    "prom3 = promLabel(3, data)      \n",
    "print(prom1, prom2, prom3)"
   ]
  },
  {
   "cell_type": "code",
   "execution_count": 4,
   "metadata": {},
   "outputs": [],
   "source": [
    "class KNNClassifier:\n",
    "    def __init__(self):\n",
    "        self.data_train = None\n",
    "        self.label_train = None\n",
    "\n",
    "    def fit(self, data_train, label_train):\n",
    "        self.data_train = data_train\n",
    "        self.label_train = label_train\n",
    "\n",
    "    def euclidean_distance(self, x1, x2):\n",
    "        squared_diff_sum = 0\n",
    "        for i in range(len(x1)):\n",
    "            squared_diff_sum += (x1[i] - x2[i]) ** 2\n",
    "        return sqrt(squared_diff_sum)\n",
    "    \n",
    "    def newget_neighbors(self, x):\n",
    "        distances = []\n",
    "        for i in range(1,3):\n",
    "            distance = self.euclidean_distance(x, promLabel(i, data))\n",
    "            distances.append((distance, i)) \n",
    "        \n",
    "        for i in range(len(distances)):\n",
    "            min_idx = i\n",
    "            for j in range(i + 1, len(distances)):\n",
    "                if distances[j][0] < distances[min_idx][0]:\n",
    "                    min_idx = j\n",
    "            distances[i], distances[min_idx] = distances[min_idx], distances[i]\n",
    "            \n",
    "        return distances\n",
    "\n",
    "    def predict(self, data_train):\n",
    "        y_pred = []\n",
    "        k = 0\n",
    "        for data_train in data_train:\n",
    "            k = k+1\n",
    "            neighbors = self.newget_neighbors(data_train)\n",
    "            y_pred.append(neighbors[0][1])\n",
    "        return y_pred\n",
    "\n"
   ]
  },
  {
   "cell_type": "code",
   "execution_count": 5,
   "metadata": {},
   "outputs": [],
   "source": [
    "def knnAlgorithm(data_train, label_train, X_test, Y_test):\n",
    "    clases = np.unique(label_train)\n",
    "    confussionMatrix = np.zeros((len(clases),len(clases)), dtype=int)\n",
    "    knn = KNNClassifier()\n",
    "    knn.fit(data_train, label_train)\n",
    "    predictions = knn.predict(X_test)\n",
    "    for i in range (len(predictions)):\n",
    "        confussionMatrix[int(predictions[i])-1][int(Y_test[i])-1] += 1\n",
    "    accuracy = np.trace(confussionMatrix)/np.sum(confussionMatrix)\n",
    "    #se imprime matriz de confusion\n",
    "    print(\"the accuracy is \",accuracy*100, \"%\")\n",
    "    print(confussionMatrix, \"\\n\")\n",
    "    #return accuracy"
   ]
  },
  {
   "cell_type": "code",
   "execution_count": 6,
   "metadata": {},
   "outputs": [
    {
     "name": "stdout",
     "output_type": "stream",
     "text": [
      "the accuracy is  65.0 %\n",
      "[[20  1  0]\n",
      " [ 0 19 20]\n",
      " [ 0  0  0]] \n",
      "\n"
     ]
    }
   ],
   "source": [
    "knnAlgorithm(dataTrain, label_train, dataTest, label_test)\n"
   ]
  }
 ],
 "metadata": {
  "kernelspec": {
   "display_name": "base",
   "language": "python",
   "name": "python3"
  },
  "language_info": {
   "codemirror_mode": {
    "name": "ipython",
    "version": 3
   },
   "file_extension": ".py",
   "mimetype": "text/x-python",
   "name": "python",
   "nbconvert_exporter": "python",
   "pygments_lexer": "ipython3",
   "version": "3.9.13"
  },
  "orig_nbformat": 4
 },
 "nbformat": 4,
 "nbformat_minor": 2
}
