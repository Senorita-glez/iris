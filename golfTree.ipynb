{
 "cells": [
  {
   "attachments": {},
   "cell_type": "markdown",
   "metadata": {},
   "source": [
    "Cargar valores de entrenamiento"
   ]
  },
  {
   "cell_type": "code",
   "execution_count": 96,
   "metadata": {},
   "outputs": [],
   "source": [
    "import numpy as np\n",
    "class GolfValues:\n",
    "    def __init__(self, ambiente, temperatura, humedad, viento, jugar):\n",
    "        self.ambiente = ambiente\n",
    "        self.temperatura = temperatura\n",
    "        self.humedad = humedad\n",
    "        self.viento = viento\n",
    "        self.jugar = jugar\n",
    "\n",
    "def leer_archivo(nombre_archivo):\n",
    "    datos = []\n",
    "    with open(nombre_archivo, 'r') as archivo:\n",
    "        for linea in archivo:\n",
    "            valores = linea.strip().split(',')\n",
    "            datos_ambiente = GolfValues(valores[0], valores[1], valores[2], valores[3], valores[4])\n",
    "            datos.append(datos_ambiente)\n",
    "        datos.pop(0)\n",
    "    return np.array(datos)\n",
    "\n",
    "def saveClases(nombre_archivo):\n",
    "    with open(nombre_archivo, 'r') as archivo:\n",
    "        primera_linea = archivo.readline().strip().lower().split(',')\n",
    "    valores_primera_linea = np.array(primera_linea[:-1])\n",
    "    return valores_primera_linea\n",
    "\n",
    "def countObjects(objetos, atributo, valorAtributo):\n",
    "    count = 0\n",
    "    for obj in objetos:\n",
    "        if getattr(obj, atributo) == valorAtributo:\n",
    "            count += 1\n",
    "    return count\n",
    "\n",
    "def countObjectsArr(objetos, atributo, valorAtributo):\n",
    "    count = []\n",
    "    for obj in objetos:\n",
    "        if getattr(obj, atributo) == valorAtributo:\n",
    "            count.append(obj)\n",
    "    return count\n",
    "\n",
    "def countUniqueValues(objetos, atributo):\n",
    "    valores_unicos = set()\n",
    "    for obj in objetos:\n",
    "        valor = getattr(obj, atributo)\n",
    "        valores_unicos.add(valor)\n",
    "    valores_unicos = list(valores_unicos)\n",
    "    valores_unicos.sort()\n",
    "    valuesU = np.array([valores_unicos, np.zeros(len(valores_unicos))])\n",
    "    for i in range(valuesU.shape[1]):\n",
    "        valuesU[1][i] = countObjects(objetos, atributo, valuesU[0][i])\n",
    "    return valuesU\n",
    "\n",
    "def entropy(objetos, FinalDesc):\n",
    "    total_entr = 0\n",
    "    valuesU = countUniqueValues(objetos, FinalDesc)\n",
    "    for i in range(valuesU.shape[1]):\n",
    "        #print(int(valuesU[1][i]), \"/\" ,objetos.size)\n",
    "        total_class_entr = - (int(valuesU[1][i])/len(objetos))*np.log2(int(valuesU[1][i])/len(objetos)) \n",
    "        total_entr += total_class_entr\n",
    "    return total_entr\n",
    "\n",
    "def entropyCategory(objetos, atributo, finalDesc='jugar'):\n",
    "    valuesU = countUniqueValues(objetos, atributo)\n",
    "    valuesF = countUniqueValues(objetos, finalDesc)\n",
    "    add = np.zeros((1, valuesU.shape[1]))\n",
    "    for i in range(valuesU.shape[1]):\n",
    "        arr = countObjectsArr(objetos, atributo, valuesU[0][i])\n",
    "        v = 0\n",
    "        for j in range(valuesF.shape[1]):\n",
    "            n = countObjects(arr, finalDesc, valuesF[0][j])\n",
    "            #print(n , \"/\", len(arr))\n",
    "            if n != 0:\n",
    "                v += -(n/len(arr))*np.log2(n/len(arr))\n",
    "        add[0][i] = v\n",
    "    valuesU = np.concatenate((valuesU, add), axis=0)\n",
    "    return valuesU\n",
    "\n",
    "def infoGain(objetos, atributo):\n",
    "    info = entropyCategory(objetos, atributo, finalDesc='jugar')\n",
    "    entropiaT = entropy(objetos, 'jugar')\n",
    "    gain = 0\n",
    "    \n",
    "    for i in range(info.shape[1]):\n",
    "        gain += (int(info[1][i]) / len(objetos)) * float(info[2][i])\n",
    "        \n",
    "    return  entropiaT - gain\n",
    "\n",
    "def mostInformative(objetos, archivo='golf_data.csv'):\n",
    "    columns = set(saveClases(archivo))  # Convertir a conjunto para eliminar duplicados\n",
    "    max_info_gain = -1\n",
    "    max_info_feature = None\n",
    "\n",
    "    for column in columns:\n",
    "        info_gain = infoGain(objetos, column)\n",
    "        if info_gain > max_info_gain:\n",
    "            max_info_gain = info_gain\n",
    "            max_info_feature = column\n",
    "    return max_info_feature  \n",
    "\n"
   ]
  },
  {
   "cell_type": "code",
   "execution_count": 97,
   "metadata": {},
   "outputs": [
    {
     "data": {
      "text/plain": [
       "\"arbol_generado, objetos_restantes = subtree(objetos,'ambiente')\\nimprimir_subarbol(arbol_generado)\""
      ]
     },
     "execution_count": 97,
     "metadata": {},
     "output_type": "execute_result"
    }
   ],
   "source": [
    "def subtree(objetos, atributo, finalDesc='jugar'):\n",
    "    tree = {}\n",
    "    valuesU = countUniqueValues(objetos, atributo)\n",
    "    class_list = countUniqueValues(objetos, finalDesc)\n",
    "    for i in range(valuesU.shape[1]):\n",
    "        arr = countObjectsArr(objetos, atributo, valuesU[0][i])\n",
    "        assigned_to_node = False\n",
    "        for j in range(class_list.shape[1]):\n",
    "            n = countObjects(arr, finalDesc, class_list[0][j])\n",
    "            if n == len(arr):\n",
    "                tree[valuesU[0][i]] = class_list[0][j]\n",
    "                objetos = [obj for obj in objetos if getattr(obj, atributo) != valuesU[0][i]]\n",
    "                assigned_to_node = True\n",
    "        if not assigned_to_node:\n",
    "            tree[valuesU[0][i]] = \"?\"\n",
    "    return tree, objetos\n",
    "\n",
    "\n",
    "def imprimir_subarbol(arbol, nivel=0):\n",
    "    for clave, valor in arbol.items():\n",
    "        indentacion = \"  \" * nivel\n",
    "        print(f\"{indentacion}{clave}: {valor}\")\n",
    "        if isinstance(valor, dict):\n",
    "            imprimir_subarbol(valor, nivel + 1)\n",
    "\n",
    "     \n",
    "'''arbol_generado, objetos_restantes = subtree(objetos,'ambiente')\n",
    "imprimir_subarbol(arbol_generado)'''           \n"
   ]
  },
  {
   "cell_type": "code",
   "execution_count": 98,
   "metadata": {},
   "outputs": [
    {
     "data": {
      "text/plain": [
       "{'ambiente': {'Ll': {'viento': {'N': 'S', 'S': 'N'}},\n",
       "  'N': 'S',\n",
       "  'S': {'humedad': {'A': 'N', 'N': 'S'}}}}"
      ]
     },
     "execution_count": 98,
     "metadata": {},
     "output_type": "execute_result"
    }
   ],
   "source": [
    "def make_tree(root, prev_feature, objetos, atributo):\n",
    "    class_list = countUniqueValues(objetos, atributo)\n",
    "    if len(objetos) != 0:\n",
    "        max_info = mostInformative(objetos)\n",
    "        tree, train_data = subtree(objetos, max_info)\n",
    "        next_root = None\n",
    "        if prev_feature != None:\n",
    "            root[prev_feature] = dict()\n",
    "            root[prev_feature][max_info] = tree\n",
    "            next_root = root[prev_feature][max_info]\n",
    "        else:\n",
    "            root[max_info] = tree\n",
    "            next_root = root[max_info]\n",
    "            \n",
    "        for node, branch in list(next_root.items()):\n",
    "            if branch == \"?\":\n",
    "                feature_data = countObjectsArr(objetos, max_info, node,)\n",
    "                make_tree(next_root, node, feature_data, atributo)\n",
    "                \n",
    "    \n",
    "def id3(objetos, atributo):\n",
    "    tree = {}\n",
    "    make_tree(tree, None, objetos, atributo)\n",
    "    return tree\n",
    "    \n",
    "    \n",
    "    \n",
    "archivo = 'golf_data.csv' \n",
    "objetos = leer_archivo(archivo)    \n",
    "tree = id3(objetos, 'jugar')\n",
    "tree\n",
    "\n"
   ]
  },
  {
   "cell_type": "code",
   "execution_count": 100,
   "metadata": {},
   "outputs": [],
   "source": [
    "def predict(tree, instance):\n",
    "    if not isinstance(tree, dict):  # if it is a leaf node\n",
    "        return tree  # return the value\n",
    "    else:\n",
    "        root_node = next(iter(tree))  # getting the first key/feature name of the dictionary\n",
    "        feature_value = getattr(instance, root_node)  # value of the feature\n",
    "        if feature_value in tree[root_node]:  # checking the feature value in the current tree node\n",
    "            return predict(tree[root_node][feature_value], instance)  # go to the next feature\n",
    "        else:\n",
    "            return None\n",
    "\n",
    "def evaluate(tree, test_data, atributo):\n",
    "    correct_predict = 0\n",
    "    wrong_predict = 0\n",
    "    for instance in test_data:\n",
    "        result = predict(tree, instance)\n",
    "        if result == getattr(instance, atributo):\n",
    "            correct_predict += 1\n",
    "        else:\n",
    "            wrong_predict += 1\n",
    "    accuracy = correct_predict / (correct_predict + wrong_predict)\n",
    "    return accuracy\n"
   ]
  },
  {
   "cell_type": "code",
   "execution_count": 101,
   "metadata": {},
   "outputs": [
    {
     "name": "stdout",
     "output_type": "stream",
     "text": [
      "1.0\n"
     ]
    }
   ],
   "source": [
    "archivoTest = 'PlayTennisTest.csv' \n",
    "objetosTest = leer_archivo(archivo)    \n",
    "\n",
    "accuracy = evaluate(tree, objetosTest, 'jugar') #evaluating the test dataset\n",
    "\n",
    "print(accuracy)"
   ]
  },
  {
   "attachments": {},
   "cell_type": "markdown",
   "metadata": {},
   "source": [
    "Crear valores de prueba"
   ]
  },
  {
   "cell_type": "code",
   "execution_count": 102,
   "metadata": {},
   "outputs": [
    {
     "name": "stdout",
     "output_type": "stream",
     "text": [
      "Ll B N N None\n",
      "Ll M A S None\n",
      "S B A S None\n",
      "Ll A A N None\n",
      "Ll M N S None\n"
     ]
    }
   ],
   "source": [
    "import random\n",
    "\n",
    "numP = 5\n",
    "posibles_valores = {\n",
    "    'columna1': ['S', 'N', 'Ll'],\n",
    "    'columna2': ['A', 'M', 'B'],\n",
    "    'columna3': ['A', 'N'],\n",
    "    'columna4': ['N', 'S']\n",
    "}\n",
    "\n",
    "# Generar las filas con valores aleatorios\n",
    "filas = []\n",
    "for _ in range(numP):\n",
    "    fila = []\n",
    "    for columna in posibles_valores:\n",
    "        valor = random.choice(posibles_valores[columna])\n",
    "        fila.append(valor)\n",
    "    filas.append(fila)\n",
    "\n",
    "# Crear objetos de tipo GolfValues y almacenarlos en objetosPrueba\n",
    "objetosPrueba = []\n",
    "for fila in filas:\n",
    "    ambiente, temperatura, humedad, viento = fila\n",
    "    objeto = GolfValues(ambiente, temperatura, humedad, viento, None)\n",
    "    objetosPrueba.append(objeto)\n",
    "\n",
    "def imprimir_objetos_prueba(objetos):\n",
    "    for objeto in objetos:\n",
    "        atributos = [str(getattr(objeto, attr)) for attr in objeto.__dict__]\n",
    "        linea = ' '.join(atributos)\n",
    "        print(linea)\n",
    "\n",
    "# Ejemplo de uso\n",
    "imprimir_objetos_prueba(objetosPrueba)"
   ]
  }
 ],
 "metadata": {
  "kernelspec": {
   "display_name": "base",
   "language": "python",
   "name": "python3"
  },
  "language_info": {
   "codemirror_mode": {
    "name": "ipython",
    "version": 3
   },
   "file_extension": ".py",
   "mimetype": "text/x-python",
   "name": "python",
   "nbconvert_exporter": "python",
   "pygments_lexer": "ipython3",
   "version": "3.9.13"
  },
  "orig_nbformat": 4
 },
 "nbformat": 4,
 "nbformat_minor": 2
}
