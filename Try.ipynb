{
 "cells": [
  {
   "cell_type": "code",
   "execution_count": 5,
   "metadata": {},
   "outputs": [
    {
     "ename": "FileNotFoundError",
     "evalue": "[Errno 2] No such file or directory: 'optdigits.tra'",
     "output_type": "error",
     "traceback": [
      "\u001b[1;31m---------------------------------------------------------------------------\u001b[0m",
      "\u001b[1;31mFileNotFoundError\u001b[0m                         Traceback (most recent call last)",
      "\u001b[1;32m~\\AppData\\Local\\Temp\\ipykernel_132512\\609736526.py\u001b[0m in \u001b[0;36m<module>\u001b[1;34m\u001b[0m\n\u001b[0;32m      1\u001b[0m \u001b[1;32mimport\u001b[0m \u001b[0mnumpy\u001b[0m \u001b[1;32mas\u001b[0m \u001b[0mnp\u001b[0m\u001b[1;33m\u001b[0m\u001b[1;33m\u001b[0m\u001b[0m\n\u001b[0;32m      2\u001b[0m \u001b[1;33m\u001b[0m\u001b[0m\n\u001b[1;32m----> 3\u001b[1;33m \u001b[1;32mwith\u001b[0m \u001b[0mopen\u001b[0m\u001b[1;33m(\u001b[0m\u001b[1;34m'optdigits.tra'\u001b[0m\u001b[1;33m,\u001b[0m \u001b[1;34m'r'\u001b[0m\u001b[1;33m)\u001b[0m \u001b[1;32mas\u001b[0m \u001b[0marchivo\u001b[0m\u001b[1;33m:\u001b[0m\u001b[1;33m\u001b[0m\u001b[1;33m\u001b[0m\u001b[0m\n\u001b[0m\u001b[0;32m      4\u001b[0m     \u001b[0mcontenido\u001b[0m \u001b[1;33m=\u001b[0m \u001b[0marchivo\u001b[0m\u001b[1;33m.\u001b[0m\u001b[0mread\u001b[0m\u001b[1;33m(\u001b[0m\u001b[1;33m)\u001b[0m\u001b[1;33m\u001b[0m\u001b[1;33m\u001b[0m\u001b[0m\n\u001b[0;32m      5\u001b[0m \u001b[1;33m\u001b[0m\u001b[0m\n",
      "\u001b[1;31mFileNotFoundError\u001b[0m: [Errno 2] No such file or directory: 'optdigits.tra'"
     ]
    }
   ],
   "source": [
    "import numpy as np\n",
    "\n",
    "with open('optdigits.tra', 'r') as archivo:\n",
    "    contenido = archivo.read()\n",
    "\n",
    "lineas = contenido.split('\\n')\n",
    "elementos = []\n",
    "for linea in lineas:\n",
    "    elementos.extend(linea.split(','))\n",
    "\n",
    "arreglo = np.array([int(elemento) for elemento in elementos if elemento.strip()])\n",
    "\n",
    "print(arreglo.shape)\n",
    "\n"
   ]
  },
  {
   "cell_type": "code",
   "execution_count": 17,
   "metadata": {},
   "outputs": [
    {
     "name": "stdout",
     "output_type": "stream",
     "text": [
      "(1797, 65)\n",
      "(1797, 64)\n",
      "[[ 0  0  5 ...  0  0  0]\n",
      " [ 0  0  0 ... 10  0  0]\n",
      " [ 0  0  0 ... 16  9  0]\n",
      " ...\n",
      " [ 0  0  1 ...  6  0  0]\n",
      " [ 0  0  2 ... 12  0  0]\n",
      " [ 0  0 10 ... 12  1  0]]\n",
      "(1797,)\n",
      "[0 1 2 ... 8 9 8]\n"
     ]
    }
   ],
   "source": [
    "import numpy as np\n",
    "\n",
    "# Lee el archivo de texto\n",
    "with open('optdigits.tes', 'r') as file:\n",
    "    lines = file.readlines()\n",
    "\n",
    "# Elimina los caracteres de salto de línea y divide los valores por comas\n",
    "data = [line.strip().split(',') for line in lines]\n",
    "\n",
    "# Convierte la lista en una matriz de numpy\n",
    "np_array = np.array(data, dtype=int)\n",
    "\n",
    "print(np_array.shape)\n",
    "\n",
    "subset_array = np_array[:, :64]\n",
    "print(subset_array.shape)\n",
    "print(subset_array)\n",
    "\n",
    "\n",
    "subset_array2 = np_array[:, 64]\n",
    "print(subset_array2.shape)\n",
    "print(subset_array2)\n",
    "# Imprime el subset_array\n",
    "\n"
   ]
  },
  {
   "cell_type": "code",
   "execution_count": null,
   "metadata": {},
   "outputs": [],
   "source": [
    "import numpy as np\n",
    "\n",
    "# Lee el archivo de texto\n",
    "with open('archivo.txt', 'r') as file:\n",
    "    lines = file.readlines()\n",
    "\n",
    "# Elimina los caracteres de salto de línea y divide los valores por comas\n",
    "data = [line.strip().split(',')[:64] for line in lines]\n",
    "\n",
    "# Convierte la lista en una matriz de numpy\n",
    "np_array = np.array(data, dtype=int)\n"
   ]
  },
  {
   "cell_type": "code",
   "execution_count": null,
   "metadata": {},
   "outputs": [],
   "source": [
    "# Función para calcular la distancia euclidiana entre dos puntos\n",
    "def euclidean_distance(x1, x2):\n",
    "    return np.sqrt(np.sum((x1 - x2) ** 2))\n",
    "\n",
    "# Clase del clasificador K-NN\n",
    "class KNNClassifier:\n",
    "    def __init__(self, k):\n",
    "        self.k = k\n",
    "\n",
    "    def fit(self, X_train, y_train):\n",
    "        self.X_train = X_train\n",
    "        self.y_train = y_train\n",
    "\n",
    "    def predict(self, X_test):\n",
    "        y_pred = []\n",
    "        for i in range(len(X_test)):\n",
    "            distances = []\n",
    "            for j in range(len(self.X_train)):\n",
    "                dist = euclidean_distance(X_test[i], self.X_train[j])\n",
    "                distances.append((dist, self.y_train[j]))\n",
    "            distances.sort(key=lambda x: x[0])  # Ordenar distancias de menor a mayor\n",
    "            neighbors = distances[:self.k]  # Obtener los k vecinos más cercanos\n",
    "            classes = [neighbor[1] for neighbor in neighbors]  # Obtener las clases de los vecinos\n",
    "            y_pred.append(max(set(classes), key=classes.count))  # Clasificación por voto mayoritario\n",
    "        return y_pred\n",
    "\n",
    "# Ejemplo de uso\n",
    "X_train = np.array([[1, 2, 3], [4, 5, 6], [7, 8, 9], [10, 11, 12]])\n",
    "print(X_train.shape)\n",
    "y_train = np.array([0, 1, 1, 0])\n",
    "print(y_train.shape)\n",
    "X_test = np.array([[2, 3, 4], [5, 6, 7]])\n",
    "\n",
    "knn = KNNClassifier(k=3)\n",
    "knn.fit(X_train, y_train)\n",
    "predictions = knn.predict(X_test)\n",
    "\n",
    "print(predictions)"
   ]
  }
 ],
 "metadata": {
  "kernelspec": {
   "display_name": "base",
   "language": "python",
   "name": "python3"
  },
  "language_info": {
   "codemirror_mode": {
    "name": "ipython",
    "version": 3
   },
   "file_extension": ".py",
   "mimetype": "text/x-python",
   "name": "python",
   "nbconvert_exporter": "python",
   "pygments_lexer": "ipython3",
   "version": "3.9.13"
  },
  "orig_nbformat": 4
 },
 "nbformat": 4,
 "nbformat_minor": 2
}
